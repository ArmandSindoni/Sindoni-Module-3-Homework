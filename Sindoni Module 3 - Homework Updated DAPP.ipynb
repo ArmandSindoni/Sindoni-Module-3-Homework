{
 "cells": [
  {
   "cell_type": "markdown",
   "metadata": {},
   "source": [
    "### Exercise 1\n",
    "Ask a user for 5 names and place each one in to a list called <i>names</i>. Then, print <i>names</i>."
   ]
  },
  {
   "cell_type": "code",
   "execution_count": 3,
   "metadata": {},
   "outputs": [
    {
     "name": "stdout",
     "output_type": "stream",
     "text": [
      "Enter a name: Kyle\n",
      "Enter a name: Doug\n",
      "Enter a name: Hans\n",
      "Enter a name: April\n",
      "Enter a name: June\n",
      "['Kyle', 'Doug', 'Hans', 'April', 'June']\n"
     ]
    }
   ],
   "source": [
    "names = []\n",
    "\n",
    "names.append(input(\"Enter a name: \"))\n",
    "names.append(input(\"Enter a name: \"))\n",
    "names.append(input(\"Enter a name: \"))\n",
    "names.append(input(\"Enter a name: \"))\n",
    "names.append(input(\"Enter a name: \"))\n",
    "\n",
    "print(names)"
   ]
  },
  {
   "cell_type": "markdown",
   "metadata": {},
   "source": [
    "### Exercise 2\n",
    "Print out a randomly selected name in the names list."
   ]
  },
  {
   "cell_type": "code",
   "execution_count": 8,
   "metadata": {},
   "outputs": [
    {
     "name": "stdout",
     "output_type": "stream",
     "text": [
      "April\n"
     ]
    }
   ],
   "source": [
    "import random as rand\n",
    "\n",
    "print(rand.choice(names)) #I actually googled this one"
   ]
  },
  {
   "cell_type": "markdown",
   "metadata": {},
   "source": [
    "### Exercise 3\n",
    "\n",
    "Ask a user for a specific color and store that value into a variable. If the answer is gray, print \"You found Victor's favorite color!\". If the answer is anything besides gray, print \"[color name] is not Victor's favorite color.\""
   ]
  },
  {
   "cell_type": "code",
   "execution_count": 14,
   "metadata": {},
   "outputs": [
    {
     "name": "stdout",
     "output_type": "stream",
     "text": [
      "Why don't you pick a color? blue\n",
      "blue is not Victor's color.\n"
     ]
    }
   ],
   "source": [
    "fav_color = str(input(\"Why don't you pick a color? \"))\n",
    "if fav_color == \"gray\":\n",
    "    print(\"You found Victor's favorite color!\")\n",
    "else:\n",
    "    print(f\"{fav_color} is not Victor's color.\")"
   ]
  },
  {
   "cell_type": "markdown",
   "metadata": {},
   "source": [
    "### Exercise 4\n",
    "Ask for an exam score and store that number. If the number is greater than 100, then print out 'You cannot have an exam score higher than 100'. If the number doesn't exceeed 100 but is greater than or equal to 75, then print out 'You did great on your exam!'. Otherwise if they scored lower than 75, then print out 'You need to study harder'."
   ]
  },
  {
   "cell_type": "code",
   "execution_count": 17,
   "metadata": {},
   "outputs": [
    {
     "name": "stdout",
     "output_type": "stream",
     "text": [
      "What was your exam score? 61\n",
      "You need to study harder\n"
     ]
    }
   ],
   "source": [
    "exam_score = int(input(\"What was your exam score? \"))\n",
    "if exam_score > 100:\n",
    "    print(\"You cannot have an exam score higher than 100.\")\n",
    "elif exam_score >= 75:\n",
    "    print(\"You did great on your exam!\")\n",
    "else:\n",
    "    print(\"You need to study harder\")"
   ]
  },
  {
   "cell_type": "markdown",
   "metadata": {},
   "source": [
    "### Exercise 5\n",
    "Write a function to convert a test score to a grade where  \n",
    " - 90 - 100: A\n",
    " - 80 - 89:  B\n",
    " - 70 - 79:  C\n",
    " - 60 - 69:  D\n",
    " - < 60   :  F\n",
    " \n",
    "If a score is not between 0 and 100 then print out an error message. In the program, ask the user for a score and then call your function. "
   ]
  },
  {
   "cell_type": "code",
   "execution_count": 38,
   "metadata": {},
   "outputs": [
    {
     "name": "stdout",
     "output_type": "stream",
     "text": [
      "What score did you receive? 78\n",
      "You got a C.\n"
     ]
    }
   ],
   "source": [
    "def letter_grade(score):\n",
    "    if score <= 100 and score >= 90:\n",
    "        print(\"You got an A!\")\n",
    "    elif score <= 89 and score >= 80:\n",
    "        print(\"You got a B.\")\n",
    "    elif score <= 79 and score >= 70: \n",
    "        print(\"You got a C.\")\n",
    "    elif score <= 69 and score >= 60:\n",
    "        print(\"You got a D.\")\n",
    "    elif score <= 59 and score >= 0:\n",
    "        print(\"Sorry, you failed buddy.\")\n",
    "    else:\n",
    "        print(\"That is an invalid test score.\")\n",
    "        \n",
    "x = int(input(\"What score did you receive? \"))\n",
    "letter_grade(x)"
   ]
  },
  {
   "cell_type": "code",
   "execution_count": null,
   "metadata": {},
   "outputs": [],
   "source": []
  },
  {
   "cell_type": "code",
   "execution_count": null,
   "metadata": {},
   "outputs": [],
   "source": []
  }
 ],
 "metadata": {
  "kernelspec": {
   "display_name": "Python 3",
   "language": "python",
   "name": "python3"
  },
  "language_info": {
   "codemirror_mode": {
    "name": "ipython",
    "version": 3
   },
   "file_extension": ".py",
   "mimetype": "text/x-python",
   "name": "python",
   "nbconvert_exporter": "python",
   "pygments_lexer": "ipython3",
   "version": "3.7.6"
  }
 },
 "nbformat": 4,
 "nbformat_minor": 4
}
